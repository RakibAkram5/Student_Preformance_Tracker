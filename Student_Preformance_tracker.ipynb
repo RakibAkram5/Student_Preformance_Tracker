{
  "cells": [
    {
      "cell_type": "code",
      "execution_count": null,
      "metadata": {
        "id": "qc9bJ9Q74hJo"
      },
      "outputs": [],
      "source": []
    },
    {
      "cell_type": "code",
      "execution_count": 1,
      "metadata": {
        "colab": {
          "base_uri": "https://localhost:8080/"
        },
        "id": "flLAwArx4pe3",
        "outputId": "de0907ca-bed6-44a8-a91b-447103f709d2"
      },
      "outputs": [
        {
          "name": "stdout",
          "output_type": "stream",
          "text": [
            "Enter student's name (or type 'done' to finish): Rakib\n",
            "Enter Math score for Rakib: 80\n",
            "Enter Science score for Rakib: 88\n",
            "Enter English score for Rakib: 92\n",
            "Enter student's name (or type 'done' to finish): done\n",
            "\n",
            "Student Performance Report:\n",
            "Student: Rakib, Average Score: 86.67, Status: Passing\n",
            "\n",
            "Class Average Score: 86.67\n"
          ]
        }
      ],
      "source": [
        "class Student:\n",
        "    def __init__(self, name, scores):\n",
        "        self.name = name\n",
        "        self.scores = scores\n",
        "\n",
        "    def calculate_average(self):\n",
        "        return sum(self.scores) / len(self.scores)\n",
        "\n",
        "    def is_passing(self, passing_score=40):\n",
        "        return all(score >= passing_score for score in self.scores)\n",
        "\n",
        "\n",
        "class PerformanceTracker:\n",
        "    def __init__(self):\n",
        "        self.students = {}\n",
        "\n",
        "    def add_student(self, name, scores):\n",
        "        new_student = Student(name, scores)\n",
        "        self.students[name] = new_student\n",
        "\n",
        "    def calculate_class_average(self):\n",
        "        total = 0\n",
        "        for student in self.students.values():\n",
        "            total += student.calculate_average()\n",
        "        return total / len(self.students) if self.students else 0\n",
        "\n",
        "    def display_student_performance(self):\n",
        "        for student in self.students.values():\n",
        "            average = student.calculate_average()\n",
        "            passing = \"Passing\" if student.is_passing() else \"Failing\"\n",
        "            print(f\"Student: {student.name}, Average Score: {average:.2f}, Status: {passing}\")\n",
        "\n",
        "\n",
        "def get_student_input():\n",
        "    while True:\n",
        "        try:\n",
        "            name = input(\"Enter student's name (or type 'done' to finish): \").strip()\n",
        "            if name.lower() == 'done':\n",
        "                break\n",
        "\n",
        "            scores = []\n",
        "            for subject in ['Math', 'Science', 'English']:\n",
        "                score = int(input(f\"Enter {subject} score for {name}: \"))\n",
        "                scores.append(score)\n",
        "\n",
        "            yield name, scores\n",
        "\n",
        "        except ValueError:\n",
        "            print(\"Invalid input! Please enter numeric values for the scores.\")\n",
        "\n",
        "\n",
        "def main():\n",
        "    tracker = PerformanceTracker()\n",
        "\n",
        "\n",
        "    for name, scores in get_student_input():\n",
        "        tracker.add_student(name, scores)\n",
        "\n",
        "    print(\"\\nStudent Performance Report:\")\n",
        "    tracker.display_student_performance()\n",
        "\n",
        "\n",
        "    class_average = tracker.calculate_class_average()\n",
        "    print(f\"\\nClass Average Score: {class_average:.2f}\")\n",
        "\n",
        "\n",
        "\n",
        "if __name__ == \"__main__\":\n",
        "    main()\n"
      ]
    }
  ],
  "metadata": {
    "colab": {
      "provenance": []
    },
    "kernelspec": {
      "display_name": "Python 3",
      "name": "python3"
    },
    "language_info": {
      "name": "python"
    }
  },
  "nbformat": 4,
  "nbformat_minor": 0
}
